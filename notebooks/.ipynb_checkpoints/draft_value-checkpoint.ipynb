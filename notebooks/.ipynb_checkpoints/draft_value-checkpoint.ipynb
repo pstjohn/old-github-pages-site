{
 "cells": [
  {
   "cell_type": "markdown",
   "metadata": {},
   "source": [
    "# Which are the best wines for the money?"
   ]
  },
  {
   "cell_type": "markdown",
   "metadata": {},
   "source": [
    "This requires us to find the median score of each wine"
   ]
  },
  {
   "cell_type": "code",
   "execution_count": null,
   "metadata": {
    "collapsed": true
   },
   "outputs": [],
   "source": [
    "medians = scores.groupby('wine').median().scaled_score\n",
    "low = medians - scores.groupby('wine').quantile(0.25).scaled_score\n",
    "high = scores.groupby('wine').quantile(0.75).scaled_score - medians"
   ]
  },
  {
   "cell_type": "code",
   "execution_count": null,
   "metadata": {
    "collapsed": true
   },
   "outputs": [],
   "source": [
    "plt.plot(wines.Price, medians, '.')\n",
    "plt.gca().set_ylim([-4, 4])"
   ]
  },
  {
   "cell_type": "code",
   "execution_count": null,
   "metadata": {
    "collapsed": true
   },
   "outputs": [],
   "source": [
    "import statsmodels.api as sm\n",
    "data = wines.loc[:,['Price', 'order']].copy()\n",
    "data = sm.add_constant(data)\n",
    "has_price = data.Price.notnull()\n",
    "rlm_model = sm.RLM(medians[has_price], data[has_price])\n",
    "results = rlm_model.fit()\n",
    "results.summary()"
   ]
  }
 ],
 "metadata": {
  "kernelspec": {
   "display_name": "Python 2",
   "language": "python",
   "name": "python2"
  }
 },
 "nbformat": 4,
 "nbformat_minor": 0
}
