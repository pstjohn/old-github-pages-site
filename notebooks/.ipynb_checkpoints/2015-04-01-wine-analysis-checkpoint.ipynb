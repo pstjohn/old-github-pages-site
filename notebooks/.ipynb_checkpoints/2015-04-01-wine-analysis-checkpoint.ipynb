{
 "cells": [
  {
   "cell_type": "markdown",
   "metadata": {},
   "source": [
    "# Wine Club Data Analysis!"
   ]
  },
  {
   "cell_type": "markdown",
   "metadata": {},
   "source": [
    "I finally got around to doing the converting necessary to get this wine dataset in workable order. I'll keep updating this post as I get around to doing more analysis. I'm doing this in IPython, you can download the notebook at the bottom of the page."
   ]
  },
  {
   "cell_type": "code",
   "execution_count": 2,
   "metadata": {
    "collapsed": false
   },
   "outputs": [],
   "source": [
    "import pandas as pd\n",
    "import numpy as np\n",
    "import matplotlib.pyplot as plt\n",
    "%matplotlib inline\n",
    "import seaborn as sns"
   ]
  },
  {
   "cell_type": "markdown",
   "metadata": {},
   "source": [
    "The databases are stored as CSV files, which I generated after much bash-scripted from the original excel document. You can download the files here: [wines.csv]({{ site.url }}/notebooks/wines.csv) and [scores.csv]({{ site.url }}/notebooks/scores.csv)"
   ]
  },
  {
   "cell_type": "code",
   "execution_count": 3,
   "metadata": {
    "collapsed": false
   },
   "outputs": [],
   "source": [
    "wines = pd.read_csv('wines.csv', index_col=0)\n",
    "scores = pd.read_csv('scores.csv', index_col=0)"
   ]
  },
  {
   "cell_type": "markdown",
   "metadata": {},
   "source": [
    "The wines database lists each wine, with relevant descriptions"
   ]
  },
  {
   "cell_type": "code",
   "execution_count": 8,
   "metadata": {
    "collapsed": false
   },
   "outputs": [
    {
     "data": {
      "text/html": [
       "<div style=\"max-height:1000px;max-width:1500px;overflow:auto;\">\n",
       "<table border=\"1\" class=\"dataframe\">\n",
       "  <thead>\n",
       "    <tr style=\"text-align: right;\">\n",
       "      <th></th>\n",
       "      <th>order</th>\n",
       "      <th>Wine Name</th>\n",
       "      <th>Region</th>\n",
       "      <th>Year</th>\n",
       "      <th>Price</th>\n",
       "      <th>Purchaser</th>\n",
       "      <th>season</th>\n",
       "      <th>night</th>\n",
       "    </tr>\n",
       "  </thead>\n",
       "  <tbody>\n",
       "    <tr>\n",
       "      <th>279</th>\n",
       "      <td> 4</td>\n",
       "      <td>                                       Albardiales</td>\n",
       "      <td>             Spain</td>\n",
       "      <td> 2013</td>\n",
       "      <td> 11</td>\n",
       "      <td> Matt/Allie</td>\n",
       "      <td> 3</td>\n",
       "      <td> 16</td>\n",
       "    </tr>\n",
       "    <tr>\n",
       "      <th>280</th>\n",
       "      <td> 5</td>\n",
       "      <td> Red Guitar Old Vine Tempranillo-Grenache (52%/...</td>\n",
       "      <td>            Navara</td>\n",
       "      <td> 2011</td>\n",
       "      <td>NaN</td>\n",
       "      <td> NateY/Jack</td>\n",
       "      <td> 3</td>\n",
       "      <td> 16</td>\n",
       "    </tr>\n",
       "    <tr>\n",
       "      <th>281</th>\n",
       "      <td> 6</td>\n",
       "      <td>                         Tolosa Seasonal Selection</td>\n",
       "      <td>       Paso Robles</td>\n",
       "      <td> 2012</td>\n",
       "      <td> 20</td>\n",
       "      <td>  Erin/Evan</td>\n",
       "      <td> 3</td>\n",
       "      <td> 16</td>\n",
       "    </tr>\n",
       "    <tr>\n",
       "      <th>282</th>\n",
       "      <td> 7</td>\n",
       "      <td>                            Hazana Tradicion Rioja</td>\n",
       "      <td>               NaN</td>\n",
       "      <td> 2011</td>\n",
       "      <td> 13</td>\n",
       "      <td>      NateE</td>\n",
       "      <td> 3</td>\n",
       "      <td> 16</td>\n",
       "    </tr>\n",
       "    <tr>\n",
       "      <th>283</th>\n",
       "      <td> 8</td>\n",
       "      <td>                                   Milflores Rioja</td>\n",
       "      <td> Laguardia, Espana</td>\n",
       "      <td>  NaN</td>\n",
       "      <td>  8</td>\n",
       "      <td>      NateK</td>\n",
       "      <td> 3</td>\n",
       "      <td> 16</td>\n",
       "    </tr>\n",
       "  </tbody>\n",
       "</table>\n",
       "</div>"
      ],
      "text/plain": [
       "     order                                          Wine Name  \\\n",
       "279      4                                        Albardiales   \n",
       "280      5  Red Guitar Old Vine Tempranillo-Grenache (52%/...   \n",
       "281      6                          Tolosa Seasonal Selection   \n",
       "282      7                             Hazana Tradicion Rioja   \n",
       "283      8                                    Milflores Rioja   \n",
       "\n",
       "                Region  Year  Price   Purchaser  season  night  \n",
       "279              Spain  2013     11  Matt/Allie       3     16  \n",
       "280             Navara  2011    NaN  NateY/Jack       3     16  \n",
       "281        Paso Robles  2012     20   Erin/Evan       3     16  \n",
       "282                NaN  2011     13       NateE       3     16  \n",
       "283  Laguardia, Espana   NaN      8       NateK       3     16  "
      ]
     },
     "execution_count": 8,
     "metadata": {},
     "output_type": "execute_result"
    }
   ],
   "source": [
    "wines.tail()"
   ]
  },
  {
   "cell_type": "markdown",
   "metadata": {},
   "source": [
    "Similarly, the scores database contains information on each tasting"
   ]
  },
  {
   "cell_type": "code",
   "execution_count": 5,
   "metadata": {
    "collapsed": false
   },
   "outputs": [
    {
     "data": {
      "text/html": [
       "<div style=\"max-height:1000px;max-width:1500px;overflow:auto;\">\n",
       "<table border=\"1\" class=\"dataframe\">\n",
       "  <thead>\n",
       "    <tr style=\"text-align: right;\">\n",
       "      <th></th>\n",
       "      <th>Name</th>\n",
       "      <th>Score</th>\n",
       "      <th>wine</th>\n",
       "      <th>season</th>\n",
       "      <th>night</th>\n",
       "      <th>order</th>\n",
       "      <th>Nose</th>\n",
       "      <th>Flavor</th>\n",
       "      <th>Finish</th>\n",
       "      <th>Overall</th>\n",
       "      <th>Comments</th>\n",
       "    </tr>\n",
       "  </thead>\n",
       "  <tbody>\n",
       "    <tr>\n",
       "      <th>3191</th>\n",
       "      <td>  Allie</td>\n",
       "      <td> 10</td>\n",
       "      <td> 283</td>\n",
       "      <td> 3</td>\n",
       "      <td> 16</td>\n",
       "      <td> 8</td>\n",
       "      <td>  3</td>\n",
       "      <td>  2</td>\n",
       "      <td>  2</td>\n",
       "      <td>  3</td>\n",
       "      <td>                            floral, tannic, hot</td>\n",
       "    </tr>\n",
       "    <tr>\n",
       "      <th>3192</th>\n",
       "      <td>  Grace</td>\n",
       "      <td>  7</td>\n",
       "      <td> 283</td>\n",
       "      <td> 3</td>\n",
       "      <td> 16</td>\n",
       "      <td> 8</td>\n",
       "      <td>  2</td>\n",
       "      <td>  2</td>\n",
       "      <td>  1</td>\n",
       "      <td>  2</td>\n",
       "      <td>                                   burns, harsh</td>\n",
       "    </tr>\n",
       "    <tr>\n",
       "      <th>3193</th>\n",
       "      <td>  Davey</td>\n",
       "      <td> 10</td>\n",
       "      <td> 283</td>\n",
       "      <td> 3</td>\n",
       "      <td> 16</td>\n",
       "      <td> 8</td>\n",
       "      <td>  1</td>\n",
       "      <td>  2</td>\n",
       "      <td>  2</td>\n",
       "      <td>  5</td>\n",
       "      <td> tinge to it around the edges; strawberry muted</td>\n",
       "    </tr>\n",
       "    <tr>\n",
       "      <th>3194</th>\n",
       "      <td>   Luke</td>\n",
       "      <td> 13</td>\n",
       "      <td> 283</td>\n",
       "      <td> 3</td>\n",
       "      <td> 16</td>\n",
       "      <td> 8</td>\n",
       "      <td>NaN</td>\n",
       "      <td>NaN</td>\n",
       "      <td>NaN</td>\n",
       "      <td>NaN</td>\n",
       "      <td>                                            NaN</td>\n",
       "    </tr>\n",
       "    <tr>\n",
       "      <th>3195</th>\n",
       "      <td> Kaylan</td>\n",
       "      <td> 13</td>\n",
       "      <td> 283</td>\n",
       "      <td> 3</td>\n",
       "      <td> 16</td>\n",
       "      <td> 8</td>\n",
       "      <td>  4</td>\n",
       "      <td>  2</td>\n",
       "      <td>  2</td>\n",
       "      <td>  5</td>\n",
       "      <td>                     fruity nose, bitter finish</td>\n",
       "    </tr>\n",
       "  </tbody>\n",
       "</table>\n",
       "</div>"
      ],
      "text/plain": [
       "        Name  Score  wine  season  night  order  Nose  Flavor  Finish  \\\n",
       "3191   Allie     10   283       3     16      8     3       2       2   \n",
       "3192   Grace      7   283       3     16      8     2       2       1   \n",
       "3193   Davey     10   283       3     16      8     1       2       2   \n",
       "3194    Luke     13   283       3     16      8   NaN     NaN     NaN   \n",
       "3195  Kaylan     13   283       3     16      8     4       2       2   \n",
       "\n",
       "      Overall                                        Comments  \n",
       "3191        3                             floral, tannic, hot  \n",
       "3192        2                                    burns, harsh  \n",
       "3193        5  tinge to it around the edges; strawberry muted  \n",
       "3194      NaN                                             NaN  \n",
       "3195        5                      fruity nose, bitter finish  "
      ]
     },
     "execution_count": 5,
     "metadata": {},
     "output_type": "execute_result"
    }
   ],
   "source": [
    "scores.tail()"
   ]
  },
  {
   "cell_type": "markdown",
   "metadata": {},
   "source": [
    "Average score by tasting order\n",
    "==============\n",
    "In a perfect world, the order in which we taste the wines would be completely random, and we wouldn't expect any variation based on position tasted. This looks like its more or less the case, but position 6 does seem to have an advantage"
   ]
  },
  {
   "cell_type": "code",
   "execution_count": 6,
   "metadata": {
    "collapsed": false
   },
   "outputs": [
    {
     "data": {
      "text/plain": [
       "<matplotlib.axes._subplots.AxesSubplot at 0x7f82c0b95290>"
      ]
     },
     "execution_count": 6,
     "metadata": {},
     "output_type": "execute_result"
    },
    {
     "data": {
      "image/png": "[encoded data removed]",
      "text/plain": [
       "<matplotlib.figure.Figure at 0x7f82c0bf5e50>"
      ]
     },
     "metadata": {},
     "output_type": "display_data"
    }
   ],
   "source": [
    "sns.boxplot(vals=scores.Score, groupby=scores.order)"
   ]
  }
 ],
 "metadata": {
  "kernelspec": {
   "display_name": "Python 2",
   "language": "python",
   "name": "python2"
  },
  "language_info": {
   "codemirror_mode": {
    "name": "ipython",
    "version": 2
   },
   "file_extension": ".py",
   "mimetype": "text/x-python",
   "name": "python",
   "nbconvert_exporter": "python",
   "pygments_lexer": "ipython2",
   "version": "2.7.6"
  }
 },
 "nbformat": 4,
 "nbformat_minor": 0
}
