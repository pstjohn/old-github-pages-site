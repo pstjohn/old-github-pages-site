{
 "cells": [
  {
   "cell_type": "markdown",
   "metadata": {},
   "source": [
    "# Wine Club Data Analysis - Part 1: Databases"
   ]
  },
  {
   "cell_type": "markdown",
   "metadata": {},
   "source": [
    "I finally got around to doing the converting necessary to get this wine dataset in workable order. I'll keep updating this post as I get around to doing more analysis. I'm doing this in IPython, you can download the notebook at the bottom of the page."
   ]
  },
  {
   "cell_type": "code",
   "execution_count": 1,
   "metadata": {
    "collapsed": false
   },
   "outputs": [],
   "source": [
    "import pandas as pd\n",
    "import numpy as np\n",
    "import matplotlib.pyplot as plt\n",
    "import seaborn as sns\n",
    "plt.rcParams.update({'savefig.dpi' : 100})\n",
    "sns.set_context(\"paper\")\n",
    "sns.set_style(\"darkgrid\")"
   ]
  },
  {
   "cell_type": "markdown",
   "metadata": {},
   "source": [
    "The databases are stored as CSV files, which I generated after much bash-scripted from the original excel document. You can download the files here: [wines.csv]({{ site.url }}/notebooks/wines.csv), [scores.csv]({{ site.url }}/notebooks/scores.csv), and [nights.csv]({{ site.url }}/notebooks/nights.csv),"
   ]
  },
  {
   "cell_type": "code",
   "execution_count": 26,
   "metadata": {
    "collapsed": false
   },
   "outputs": [],
   "source": [
    "wines = pd.read_csv('wines.csv', index_col=0)\n",
    "scores = pd.read_csv('scores.csv', index_col=0)\n",
    "nights = pd.read_csv('nights.csv')"
   ]
  },
  {
   "cell_type": "markdown",
   "metadata": {},
   "source": [
    "The wines database lists each wine, with relevant descriptions"
   ]
  },
  {
   "cell_type": "code",
   "execution_count": 27,
   "metadata": {
    "collapsed": false
   },
   "outputs": [
    {
     "data": {
      "text/html": [
       "<div style=\"max-height:1000px;max-width:1500px;overflow:auto;\">\n",
       "<table border=\"1\" class=\"dataframe\">\n",
       "  <thead>\n",
       "    <tr style=\"text-align: right;\">\n",
       "      <th></th>\n",
       "      <th>order</th>\n",
       "      <th>Wine Name</th>\n",
       "      <th>Region</th>\n",
       "      <th>Year</th>\n",
       "      <th>Price</th>\n",
       "      <th>Purchaser</th>\n",
       "      <th>season</th>\n",
       "      <th>night</th>\n",
       "    </tr>\n",
       "  </thead>\n",
       "  <tbody>\n",
       "    <tr>\n",
       "      <th>279</th>\n",
       "      <td> 4</td>\n",
       "      <td>                                       Albardiales</td>\n",
       "      <td>             Spain</td>\n",
       "      <td> 2013</td>\n",
       "      <td> 11</td>\n",
       "      <td> Matt/Allie</td>\n",
       "      <td> 3</td>\n",
       "      <td> 16</td>\n",
       "    </tr>\n",
       "    <tr>\n",
       "      <th>280</th>\n",
       "      <td> 5</td>\n",
       "      <td> Red Guitar Old Vine Tempranillo-Grenache (52%/...</td>\n",
       "      <td>            Navara</td>\n",
       "      <td> 2011</td>\n",
       "      <td>NaN</td>\n",
       "      <td> NateY/Jack</td>\n",
       "      <td> 3</td>\n",
       "      <td> 16</td>\n",
       "    </tr>\n",
       "    <tr>\n",
       "      <th>281</th>\n",
       "      <td> 6</td>\n",
       "      <td>                         Tolosa Seasonal Selection</td>\n",
       "      <td>       Paso Robles</td>\n",
       "      <td> 2012</td>\n",
       "      <td> 20</td>\n",
       "      <td>  Erin/Evan</td>\n",
       "      <td> 3</td>\n",
       "      <td> 16</td>\n",
       "    </tr>\n",
       "    <tr>\n",
       "      <th>282</th>\n",
       "      <td> 7</td>\n",
       "      <td>                            Hazana Tradicion Rioja</td>\n",
       "      <td>               NaN</td>\n",
       "      <td> 2011</td>\n",
       "      <td> 13</td>\n",
       "      <td>      NateE</td>\n",
       "      <td> 3</td>\n",
       "      <td> 16</td>\n",
       "    </tr>\n",
       "    <tr>\n",
       "      <th>283</th>\n",
       "      <td> 8</td>\n",
       "      <td>                                   Milflores Rioja</td>\n",
       "      <td> Laguardia, Espana</td>\n",
       "      <td>  NaN</td>\n",
       "      <td>  8</td>\n",
       "      <td>      NateK</td>\n",
       "      <td> 3</td>\n",
       "      <td> 16</td>\n",
       "    </tr>\n",
       "  </tbody>\n",
       "</table>\n",
       "</div>"
      ],
      "text/plain": [
       "     order                                          Wine Name  \\\n",
       "279      4                                        Albardiales   \n",
       "280      5  Red Guitar Old Vine Tempranillo-Grenache (52%/...   \n",
       "281      6                          Tolosa Seasonal Selection   \n",
       "282      7                             Hazana Tradicion Rioja   \n",
       "283      8                                    Milflores Rioja   \n",
       "\n",
       "                Region  Year  Price   Purchaser  season  night  \n",
       "279              Spain  2013     11  Matt/Allie       3     16  \n",
       "280             Navara  2011    NaN  NateY/Jack       3     16  \n",
       "281        Paso Robles  2012     20   Erin/Evan       3     16  \n",
       "282                NaN  2011     13       NateE       3     16  \n",
       "283  Laguardia, Espana   NaN      8       NateK       3     16  "
      ]
     },
     "execution_count": 27,
     "metadata": {},
     "output_type": "execute_result"
    }
   ],
   "source": [
    "wines.tail()"
   ]
  },
  {
   "cell_type": "markdown",
   "metadata": {},
   "source": [
    "Similarly, the scores database contains information on each tasting"
   ]
  },
  {
   "cell_type": "code",
   "execution_count": 28,
   "metadata": {
    "collapsed": false
   },
   "outputs": [
    {
     "data": {
      "text/html": [
       "<div style=\"max-height:1000px;max-width:1500px;overflow:auto;\">\n",
       "<table border=\"1\" class=\"dataframe\">\n",
       "  <thead>\n",
       "    <tr style=\"text-align: right;\">\n",
       "      <th></th>\n",
       "      <th>Name</th>\n",
       "      <th>Score</th>\n",
       "      <th>wine</th>\n",
       "      <th>season</th>\n",
       "      <th>night</th>\n",
       "      <th>order</th>\n",
       "      <th>Nose</th>\n",
       "      <th>Flavor</th>\n",
       "      <th>Finish</th>\n",
       "      <th>Overall</th>\n",
       "      <th>Comments</th>\n",
       "    </tr>\n",
       "  </thead>\n",
       "  <tbody>\n",
       "    <tr>\n",
       "      <th>3191</th>\n",
       "      <td>  Allie</td>\n",
       "      <td> 10</td>\n",
       "      <td> 283</td>\n",
       "      <td> 3</td>\n",
       "      <td> 16</td>\n",
       "      <td> 8</td>\n",
       "      <td>  3</td>\n",
       "      <td>  2</td>\n",
       "      <td>  2</td>\n",
       "      <td>  3</td>\n",
       "      <td>                            floral, tannic, hot</td>\n",
       "    </tr>\n",
       "    <tr>\n",
       "      <th>3192</th>\n",
       "      <td>  Grace</td>\n",
       "      <td>  7</td>\n",
       "      <td> 283</td>\n",
       "      <td> 3</td>\n",
       "      <td> 16</td>\n",
       "      <td> 8</td>\n",
       "      <td>  2</td>\n",
       "      <td>  2</td>\n",
       "      <td>  1</td>\n",
       "      <td>  2</td>\n",
       "      <td>                                   burns, harsh</td>\n",
       "    </tr>\n",
       "    <tr>\n",
       "      <th>3193</th>\n",
       "      <td>  Davey</td>\n",
       "      <td> 10</td>\n",
       "      <td> 283</td>\n",
       "      <td> 3</td>\n",
       "      <td> 16</td>\n",
       "      <td> 8</td>\n",
       "      <td>  1</td>\n",
       "      <td>  2</td>\n",
       "      <td>  2</td>\n",
       "      <td>  5</td>\n",
       "      <td> tinge to it around the edges; strawberry muted</td>\n",
       "    </tr>\n",
       "    <tr>\n",
       "      <th>3194</th>\n",
       "      <td>   Luke</td>\n",
       "      <td> 13</td>\n",
       "      <td> 283</td>\n",
       "      <td> 3</td>\n",
       "      <td> 16</td>\n",
       "      <td> 8</td>\n",
       "      <td>NaN</td>\n",
       "      <td>NaN</td>\n",
       "      <td>NaN</td>\n",
       "      <td>NaN</td>\n",
       "      <td>                                            NaN</td>\n",
       "    </tr>\n",
       "    <tr>\n",
       "      <th>3195</th>\n",
       "      <td> Kaylan</td>\n",
       "      <td> 13</td>\n",
       "      <td> 283</td>\n",
       "      <td> 3</td>\n",
       "      <td> 16</td>\n",
       "      <td> 8</td>\n",
       "      <td>  4</td>\n",
       "      <td>  2</td>\n",
       "      <td>  2</td>\n",
       "      <td>  5</td>\n",
       "      <td>                     fruity nose, bitter finish</td>\n",
       "    </tr>\n",
       "  </tbody>\n",
       "</table>\n",
       "</div>"
      ],
      "text/plain": [
       "        Name  Score  wine  season  night  order  Nose  Flavor  Finish  \\\n",
       "3191   Allie     10   283       3     16      8     3       2       2   \n",
       "3192   Grace      7   283       3     16      8     2       2       1   \n",
       "3193   Davey     10   283       3     16      8     1       2       2   \n",
       "3194    Luke     13   283       3     16      8   NaN     NaN     NaN   \n",
       "3195  Kaylan     13   283       3     16      8     4       2       2   \n",
       "\n",
       "      Overall                                        Comments  \n",
       "3191        3                             floral, tannic, hot  \n",
       "3192        2                                    burns, harsh  \n",
       "3193        5  tinge to it around the edges; strawberry muted  \n",
       "3194      NaN                                             NaN  \n",
       "3195        5                      fruity nose, bitter finish  "
      ]
     },
     "execution_count": 28,
     "metadata": {},
     "output_type": "execute_result"
    }
   ],
   "source": [
    "scores.tail()"
   ]
  },
  {
   "cell_type": "markdown",
   "metadata": {},
   "source": [
    "The nights database holds information on each individual night, including the varietal chosen and number of wines we drunk."
   ]
  },
  {
   "cell_type": "code",
   "execution_count": 29,
   "metadata": {
    "collapsed": false,
    "scrolled": true
   },
   "outputs": [
    {
     "data": {
      "text/html": [
       "<div style=\"max-height:1000px;max-width:1500px;overflow:auto;\">\n",
       "<table border=\"1\" class=\"dataframe\">\n",
       "  <thead>\n",
       "    <tr style=\"text-align: right;\">\n",
       "      <th></th>\n",
       "      <th>season</th>\n",
       "      <th>night</th>\n",
       "      <th>Date</th>\n",
       "      <th>Varietal</th>\n",
       "      <th>numwines</th>\n",
       "    </tr>\n",
       "  </thead>\n",
       "  <tbody>\n",
       "    <tr>\n",
       "      <th>0</th>\n",
       "      <td> 1</td>\n",
       "      <td> 1</td>\n",
       "      <td> 27-Mar-2012</td>\n",
       "      <td>   Zinfandel</td>\n",
       "      <td> 4</td>\n",
       "    </tr>\n",
       "    <tr>\n",
       "      <th>1</th>\n",
       "      <td> 1</td>\n",
       "      <td> 2</td>\n",
       "      <td>  1-Apr-2012</td>\n",
       "      <td>  Chardonnay</td>\n",
       "      <td> 7</td>\n",
       "    </tr>\n",
       "    <tr>\n",
       "      <th>2</th>\n",
       "      <td> 1</td>\n",
       "      <td> 3</td>\n",
       "      <td>  9-Apr-2012</td>\n",
       "      <td> Petit Sirah</td>\n",
       "      <td> 5</td>\n",
       "    </tr>\n",
       "    <tr>\n",
       "      <th>3</th>\n",
       "      <td> 1</td>\n",
       "      <td> 4</td>\n",
       "      <td> 16-Apr-2012</td>\n",
       "      <td>       Syrah</td>\n",
       "      <td> 9</td>\n",
       "    </tr>\n",
       "    <tr>\n",
       "      <th>4</th>\n",
       "      <td> 1</td>\n",
       "      <td> 5</td>\n",
       "      <td> 23-Apr-2012</td>\n",
       "      <td>  Pinot Noir</td>\n",
       "      <td> 8</td>\n",
       "    </tr>\n",
       "  </tbody>\n",
       "</table>\n",
       "</div>"
      ],
      "text/plain": [
       "   season  night         Date     Varietal  numwines\n",
       "0       1      1  27-Mar-2012    Zinfandel         4\n",
       "1       1      2   1-Apr-2012   Chardonnay         7\n",
       "2       1      3   9-Apr-2012  Petit Sirah         5\n",
       "3       1      4  16-Apr-2012        Syrah         9\n",
       "4       1      5  23-Apr-2012   Pinot Noir         8"
      ]
     },
     "execution_count": 29,
     "metadata": {},
     "output_type": "execute_result"
    }
   ],
   "source": [
    "nights.head()"
   ]
  },
  {
   "cell_type": "markdown",
   "metadata": {},
   "source": [
    "## Number of tastings per person\n",
    "Some of us have been to wine club more frequently (or longer) than others, so its useful to visualize the number of datapoints we have per person."
   ]
  },
  {
   "cell_type": "code",
   "execution_count": 31,
   "metadata": {
    "collapsed": false
   },
   "outputs": [
    {
     "data": {
      "image/png": "[encoded data removed]",
      "text/plain": [
       "<matplotlib.figure.Figure at 0x7f57d162f810>"
      ]
     },
     "metadata": {},
     "output_type": "display_data"
    }
   ],
   "source": [
    "tastings = scores.groupby('Name').count().Score.copy()\n",
    "tastings.sort()\n",
    "plt.figure()\n",
    "ax = sns.barplot(x = np.arange(len(tastings)), y = tastings.values[::-1])\n",
    "tl = ax.set_xticklabels(tastings.index[::-1], rotation=90)"
   ]
  },
  {
   "cell_type": "markdown",
   "metadata": {},
   "source": [
    "## Average score per person\n",
    "We don't want anyone to have a higher overall weight on a wines averaged score, so we'll next look on how well we each do on sticking to a consistent scoring basis. (Note, ratings from season 1 have already been re-normalized to 0-21). We're also not too interested in people who have only shown up once or twice (\"Are you guys playing some sort of game?\"), so we'll make the cuttoff at Zac and above (sorry Jeremy)"
   ]
  },
  {
   "cell_type": "code",
   "execution_count": 32,
   "metadata": {
    "collapsed": false,
    "scrolled": true
   },
   "outputs": [
    {
     "data": {
      "image/png": "[encoded data removed]",
      "text/plain": [
       "<matplotlib.figure.Figure at 0x7f57d2432990>"
      ]
     },
     "metadata": {},
     "output_type": "display_data"
    }
   ],
   "source": [
    "best_tasters = tastings[tastings > tastings['Zac']].index.values\n",
    "pruned_scores = scores[scores.Name.isin(best_tasters)]\n",
    "order = pruned_scores.groupby('Name').median().Score.argsort()\n",
    "ax = sns.boxplot(vals=pruned_scores.Score, groupby=pruned_scores.Name, order=order.index[order.values])\n",
    "tl = plt.setp(ax.get_xticklabels(), rotation=90)"
   ]
  },
  {
   "cell_type": "markdown",
   "metadata": {},
   "source": [
    "Easy there Luke / Kaylan, we all like wine, but not _that_ much :)\n"
   ]
  },
  {
   "cell_type": "markdown",
   "metadata": {},
   "source": [
    "I'm going to use a [robust z-score](http://www.ncbi.nlm.nih.gov/pmc/articles/PMC2789971/) to standardize our scores by taster."
   ]
  },
  {
   "cell_type": "code",
   "execution_count": 33,
   "metadata": {
    "collapsed": false
   },
   "outputs": [],
   "source": [
    "def robust_z(x):\n",
    "    x = x.drop(['Name'], axis=1)\n",
    "    dev = x - x.median()\n",
    "    mad = np.abs(dev).median()\n",
    "    return dev / mad\n",
    "\n",
    "scores['scaled_score'] = scores.loc[:,['Name', 'Score']].groupby('Name').apply(robust_z)"
   ]
  },
  {
   "cell_type": "code",
   "execution_count": 34,
   "metadata": {
    "collapsed": false
   },
   "outputs": [
    {
     "data": {
      "text/plain": [
       "<matplotlib.axes._subplots.AxesSubplot at 0x7f57d0fd8510>"
      ]
     },
     "execution_count": 34,
     "metadata": {},
     "output_type": "execute_result"
    },
    {
     "data": {
      "image/png": "[encoded data removed]",
      "text/plain": [
       "<matplotlib.figure.Figure at 0x7f57d1029510>"
      ]
     },
     "metadata": {},
     "output_type": "display_data"
    }
   ],
   "source": [
    "scores.scaled_score.hist(bins=20, range=(-6,6))"
   ]
  },
  {
   "cell_type": "markdown",
   "metadata": {},
   "source": [
    "## Which are the best wines for the money?\n",
    "This requires us to find the median score of each wine"
   ]
  },
  {
   "cell_type": "code",
   "execution_count": 35,
   "metadata": {
    "collapsed": false
   },
   "outputs": [],
   "source": [
    "medians = scores.groupby('wine').median().scaled_score\n",
    "low = medians - scores.groupby('wine').quantile(0.25).scaled_score\n",
    "high = scores.groupby('wine').quantile(0.75).scaled_score - medians"
   ]
  },
  {
   "cell_type": "code",
   "execution_count": 36,
   "metadata": {
    "collapsed": false
   },
   "outputs": [
    {
     "data": {
      "text/plain": [
       "(-4, 4)"
      ]
     },
     "execution_count": 36,
     "metadata": {},
     "output_type": "execute_result"
    },
    {
     "data": {
      "image/png": "[encoded data removed]",
      "text/plain": [
       "<matplotlib.figure.Figure at 0x7f57d1029cd0>"
      ]
     },
     "metadata": {},
     "output_type": "display_data"
    }
   ],
   "source": [
    "plt.plot(wines.Price, medians, '.')\n",
    "plt.gca().set_ylim([-4, 4])"
   ]
  },
  {
   "cell_type": "code",
   "execution_count": 37,
   "metadata": {
    "collapsed": false
   },
   "outputs": [
    {
     "data": {
      "text/html": [
       "<table class=\"simpletable\">\n",
       "<caption>Robust linear Model Regression Results</caption>\n",
       "<tr>\n",
       "  <th>Dep. Variable:</th>    <td>scaled_score</td>   <th>  No. Observations:  </th> <td>   278</td>\n",
       "</tr>\n",
       "<tr>\n",
       "  <th>Model:</th>                 <td>RLM</td>       <th>  Df Residuals:      </th> <td>   275</td>\n",
       "</tr>\n",
       "<tr>\n",
       "  <th>Method:</th>               <td>IRLS</td>       <th>  Df Model:          </th> <td>     2</td>\n",
       "</tr>\n",
       "<tr>\n",
       "  <th>Norm:</th>                <td>HuberT</td>      <th>                     </th>    <td> </td>  \n",
       "</tr>\n",
       "<tr>\n",
       "  <th>Scale Est.:</th>            <td>mad</td>       <th>                     </th>    <td> </td>  \n",
       "</tr>\n",
       "<tr>\n",
       "  <th>Cov Type:</th>              <td>H1</td>        <th>                     </th>    <td> </td>  \n",
       "</tr>\n",
       "<tr>\n",
       "  <th>Date:</th>           <td>Fri, 03 Apr 2015</td> <th>                     </th>    <td> </td>  \n",
       "</tr>\n",
       "<tr>\n",
       "  <th>Time:</th>               <td>10:03:33</td>     <th>                     </th>    <td> </td>  \n",
       "</tr>\n",
       "<tr>\n",
       "  <th>No. Iterations:</th>        <td>16</td>        <th>                     </th>    <td> </td>  \n",
       "</tr>\n",
       "</table>\n",
       "<table class=\"simpletable\">\n",
       "<tr>\n",
       "    <td></td>       <th>coef</th>     <th>std err</th>      <th>z</th>      <th>P>|z|</th> <th>[95.0% Conf. Int.]</th> \n",
       "</tr>\n",
       "<tr>\n",
       "  <th>const</th> <td>   -0.3553</td> <td>    0.160</td> <td>   -2.225</td> <td> 0.026</td> <td>   -0.668    -0.042</td>\n",
       "</tr>\n",
       "<tr>\n",
       "  <th>Price</th> <td>    0.0317</td> <td>    0.008</td> <td>    4.159</td> <td> 0.000</td> <td>    0.017     0.047</td>\n",
       "</tr>\n",
       "<tr>\n",
       "  <th>order</th> <td>   -0.0050</td> <td>    0.026</td> <td>   -0.190</td> <td> 0.849</td> <td>   -0.056     0.046</td>\n",
       "</tr>\n",
       "</table>"
      ],
      "text/plain": [
       "<class 'statsmodels.iolib.summary.Summary'>\n",
       "\"\"\"\n",
       "                    Robust linear Model Regression Results                    \n",
       "==============================================================================\n",
       "Dep. Variable:           scaled_score   No. Observations:                  278\n",
       "Model:                            RLM   Df Residuals:                      275\n",
       "Method:                          IRLS   Df Model:                            2\n",
       "Norm:                          HuberT                                         \n",
       "Scale Est.:                       mad                                         \n",
       "Cov Type:                          H1                                         \n",
       "Date:                Fri, 03 Apr 2015                                         \n",
       "Time:                        10:03:33                                         \n",
       "No. Iterations:                    16                                         \n",
       "==============================================================================\n",
       "                 coef    std err          z      P>|z|      [95.0% Conf. Int.]\n",
       "------------------------------------------------------------------------------\n",
       "const         -0.3553      0.160     -2.225      0.026        -0.668    -0.042\n",
       "Price          0.0317      0.008      4.159      0.000         0.017     0.047\n",
       "order         -0.0050      0.026     -0.190      0.849        -0.056     0.046\n",
       "==============================================================================\n",
       "\n",
       "If the model instance has been used for another fit with different fit\n",
       "parameters, then the fit options might not be the correct ones anymore .\n",
       "\"\"\""
      ]
     },
     "execution_count": 37,
     "metadata": {},
     "output_type": "execute_result"
    }
   ],
   "source": [
    "import statsmodels.api as sm\n",
    "data = wines.loc[:,['Price', 'order']].copy()\n",
    "data = sm.add_constant(data)\n",
    "has_price = data.Price.notnull()\n",
    "rlm_model = sm.RLM(medians[has_price], data[has_price])\n",
    "results = rlm_model.fit()\n",
    "results.summary()"
   ]
  }
 ],
 "metadata": {
  "kernelspec": {
   "display_name": "Python 2",
   "language": "python",
   "name": "python2"
  },
  "language_info": {
   "codemirror_mode": {
    "name": "ipython",
    "version": 2
   },
   "file_extension": ".py",
   "mimetype": "text/x-python",
   "name": "python",
   "nbconvert_exporter": "python",
   "pygments_lexer": "ipython2",
   "version": "2.7.8"
  }
 },
 "nbformat": 4,
 "nbformat_minor": 0
}
