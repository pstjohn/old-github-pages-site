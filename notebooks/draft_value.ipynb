{
 "cells": [
  {
   "cell_type": "markdown",
   "metadata": {},
   "source": [
    "# Which are the best wines for the money?"
   ]
  },
  {
   "cell_type": "code",
   "execution_count": 60,
   "metadata": {
    "collapsed": false
   },
   "outputs": [],
   "source": [
    "import pandas as pd\n",
    "import numpy as np\n",
    "import matplotlib.pyplot as plt\n",
    "import seaborn as sns\n",
    "plt.rcParams.update({'savefig.dpi' : 100})\n",
    "sns.set_context(\"paper\")\n",
    "sns.set_style(\"darkgrid\")\n",
    "wines = pd.read_csv('wines.csv', index_col=0)\n",
    "scores = pd.read_csv('scores.csv', index_col=0)\n",
    "nights = pd.read_csv('nights.csv')"
   ]
  },
  {
   "cell_type": "code",
   "execution_count": 61,
   "metadata": {
    "collapsed": false
   },
   "outputs": [],
   "source": [
    "# To do the price regression, we add the price\n",
    "# of the wine to the scores dataframe\n",
    "scores['Price'] = wines.iloc[scores.wine].Price.reset_index(drop=True)\n",
    "\n",
    "# Similarly to the last post, we'll remove some of the more infrequent members\n",
    "tastings = scores.groupby('Name').count().Score.copy()\n",
    "best_tasters = tastings[tastings >= tastings['Zac']].index.values\n",
    "scores = scores[scores.Name.isin(best_tasters)].copy()"
   ]
  },
  {
   "cell_type": "code",
   "execution_count": 62,
   "metadata": {
    "collapsed": false
   },
   "outputs": [],
   "source": [
    "def robust_z(x):\n",
    "    dev = x - x.median()\n",
    "    mad = np.abs(dev).median()\n",
    "    return dev / mad   \n",
    "\n",
    "scores['scaled_score'] = scores.groupby('order').Score.transform(lambda x: x - x.median())\n",
    "scores['scaled_score'] = scores.groupby('Name').Score.transform(robust_z)\n",
    "wines['scaled_score'] = scores.groupby('wine').scaled_score.median()"
   ]
  },
  {
   "cell_type": "code",
   "execution_count": 66,
   "metadata": {
    "collapsed": false
   },
   "outputs": [],
   "source": [
    "xdata = wines[wines.Price.notnull()].Price.values\n",
    "ydata = wines[wines.Price.notnull()].scaled_score.values\n",
    "sort_inds = xdata.argsort()\n",
    "xdata = xdata[sort_inds]\n",
    "ydata = ydata[sort_inds]"
   ]
  },
  {
   "cell_type": "code",
   "execution_count": 70,
   "metadata": {
    "collapsed": false
   },
   "outputs": [
    {
     "data": {
      "text/plain": [
       "[<matplotlib.lines.Line2D at 0x7f095717e490>]"
      ]
     },
     "execution_count": 70,
     "metadata": {},
     "output_type": "execute_result"
    },
    {
     "data": {
      "image/png": "[encoded data removed]",
      "text/plain": [
       "<matplotlib.figure.Figure at 0x7f0957287410>"
      ]
     },
     "metadata": {},
     "output_type": "display_data"
    }
   ],
   "source": [
    "plt.plot(xdata + .5*np.random.rand(xdata.shape[0]),\n",
    "         ydata + .5*np.random.rand(ydata.shape[0]), '.')"
   ]
  },
  {
   "cell_type": "code",
   "execution_count": 73,
   "metadata": {
    "collapsed": false
   },
   "outputs": [
    {
     "data": {
      "text/plain": [
       "order                     6\n",
       "Wine Name         Las Rocas\n",
       "Region                Spain\n",
       "Year                   2008\n",
       "Price                    11\n",
       "Purchaser       NateK/Peter\n",
       "season                    2\n",
       "night                     4\n",
       "scaled_score              2\n",
       "Name: 118, dtype: object"
      ]
     },
     "execution_count": 73,
     "metadata": {},
     "output_type": "execute_result"
    }
   ],
   "source": [
    "wines.iloc[wines.scaled_score.argmax()]"
   ]
  },
  {
   "cell_type": "code",
   "execution_count": null,
   "metadata": {
    "collapsed": true
   },
   "outputs": [],
   "source": []
  }
 ],
 "metadata": {
  "kernelspec": {
   "display_name": "Python 2",
   "language": "python",
   "name": "python2"
  },
  "language_info": {
   "codemirror_mode": {
    "name": "ipython",
    "version": 2
   },
   "file_extension": ".py",
   "mimetype": "text/x-python",
   "name": "python",
   "nbconvert_exporter": "python",
   "pygments_lexer": "ipython2",
   "version": "2.7.6"
  }
 },
 "nbformat": 4,
 "nbformat_minor": 0
}
