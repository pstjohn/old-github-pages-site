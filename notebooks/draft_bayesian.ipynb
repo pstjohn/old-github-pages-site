{
 "cells": [
  {
   "cell_type": "code",
   "execution_count": null,
   "metadata": {
    "collapsed": true
   },
   "outputs": [],
   "source": [
    "import pymc\n",
    "\n",
    "# Define the variables needed for the routine, with their prior distributions\n",
    "alpha = pymc.Uniform('alpha', -100, 100)\n",
    "\n",
    "@pymc.stochastic(observed=False)\n",
    "def beta(value=0):\n",
    "    return -1.5 * np.log(1 + value ** 2)\n",
    "\n",
    "@pymc.stochastic(observed=False)\n",
    "def sigma(value=1):\n",
    "    return -np.log(abs(value))\n",
    "\n",
    "# Define the form of the model and likelihood\n",
    "@pymc.deterministic\n",
    "def y_model(x=xdata, alpha=alpha, beta=beta):\n",
    "    return alpha + beta * x\n",
    "\n",
    "@pymc.observed\n",
    "def y(y_model=y_model, sigma=sigma, value=ydata):\n",
    "    return pymc.distributions.noncentral_t_like(value, y_model, 1. / sigma ** 2, 1)\n",
    "\n",
    "\n",
    "# package the full model in a dictionary\n",
    "model1 = dict(alpha=alpha, beta=beta, sigma=sigma,\n",
    "              y_model=y_model, y=y)\n",
    "\n",
    "S = pymc.MCMC(model1)\n",
    "S.sample(iter=100000, burn=50000)"
   ]
  },
  {
   "cell_type": "code",
   "execution_count": null,
   "metadata": {
    "collapsed": true
   },
   "outputs": [],
   "source": [
    "y_min = S.stats()['mu']['quantiles'][2.5]\n",
    "y_max = S.stats()['mu']['quantiles'][97.5]\n",
    "y_fit = S.stats()['mu']['mean']"
   ]
  }
 ],
 "metadata": {
  "kernelspec": {
   "display_name": "Python 2",
   "language": "python",
   "name": "python2"
  },
  "language_info": {
   "codemirror_mode": {
    "name": "ipython",
    "version": 2
   },
   "file_extension": ".py",
   "mimetype": "text/x-python",
   "name": "python",
   "nbconvert_exporter": "python",
   "pygments_lexer": "ipython2",
   "version": "2.7.6"
  }
 },
 "nbformat": 4,
 "nbformat_minor": 0
}
